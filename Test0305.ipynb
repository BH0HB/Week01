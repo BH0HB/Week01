{
  "nbformat": 4,
  "nbformat_minor": 0,
  "metadata": {
    "colab": {
      "provenance": [],
      "authorship_tag": "ABX9TyOgcJB2fIyLxqQfIwJdbB33",
      "include_colab_link": true
    },
    "kernelspec": {
      "name": "python3",
      "display_name": "Python 3"
    },
    "language_info": {
      "name": "python"
    }
  },
  "cells": [
    {
      "cell_type": "markdown",
      "metadata": {
        "id": "view-in-github",
        "colab_type": "text"
      },
      "source": [
        "<a href=\"https://colab.research.google.com/github/BH0HB/Week01/blob/main/Test0305.ipynb\" target=\"_parent\"><img src=\"https://colab.research.google.com/assets/colab-badge.svg\" alt=\"Open In Colab\"/></a>"
      ]
    },
    {
      "cell_type": "markdown",
      "source": [
        "# my first coding page\n",
        "---\n"
      ],
      "metadata": {
        "id": "_dARPX35By-9"
      }
    },
    {
      "cell_type": "code",
      "execution_count": 3,
      "metadata": {
        "colab": {
          "base_uri": "https://localhost:8080/"
        },
        "id": "peLFuUWTBPjr",
        "outputId": "a3e674ad-d6ad-4589-adf8-a15a2498a62f"
      },
      "outputs": [
        {
          "output_type": "stream",
          "name": "stdout",
          "text": [
            "Byunghun\n",
            "hello, Byunghun\n"
          ]
        }
      ],
      "source": [
        "name = input()\n",
        "print(\"hello,\", name)"
      ]
    }
  ]
}